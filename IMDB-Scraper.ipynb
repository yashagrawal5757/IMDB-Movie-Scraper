{
 "cells": [
  {
   "cell_type": "markdown",
   "metadata": {},
   "source": [
    "## Below is an explanation of the whole source code. You may directly skip to the last code cell if you wish to execute all of the code at once."
   ]
  },
  {
   "cell_type": "code",
   "execution_count": 1,
   "metadata": {},
   "outputs": [],
   "source": [
    "from bs4 import BeautifulSoup\n",
    "import requests"
   ]
  },
  {
   "cell_type": "markdown",
   "metadata": {},
   "source": [
    "### You need to restart jupyter kernel whenever you want to take user input again. Thats just how jupyter notebooks work"
   ]
  },
  {
   "cell_type": "code",
   "execution_count": 2,
   "metadata": {},
   "outputs": [
    {
     "name": "stdout",
     "output_type": "stream",
     "text": [
      "Enter your value: Game Of Thrones\n"
     ]
    }
   ],
   "source": [
    "input = input(\"Enter your value: \") "
   ]
  },
  {
   "cell_type": "code",
   "execution_count": 3,
   "metadata": {},
   "outputs": [],
   "source": [
    "response = requests.get('http://www.imdb.com/find?ref_=nv_sr_fn&q=' +input+ ' &s=tt')\n",
    "# input helps in finding data of a movie dynamically entered by user"
   ]
  },
  {
   "cell_type": "markdown",
   "metadata": {},
   "source": [
    "### You can use the below way if you dont want to take user input i.e if you ony enter a movie and search. In that case replace 'Stranger things' with whatever series/movie you want"
   ]
  },
  {
   "cell_type": "code",
   "execution_count": 4,
   "metadata": {},
   "outputs": [],
   "source": [
    "#response = requests.get('http://www.imdb.com/find?ref_=nv_sr_fn&q= Stranger Things ! &s=tt')\n"
   ]
  },
  {
   "cell_type": "code",
   "execution_count": 5,
   "metadata": {},
   "outputs": [
    {
     "data": {
      "text/plain": [
       "'/title/tt0944947/'"
      ]
     },
     "execution_count": 5,
     "metadata": {},
     "output_type": "execute_result"
    }
   ],
   "source": [
    "# We use lxml parser\n",
    "soup = BeautifulSoup(response.content, 'lxml')\n",
    "# Fetching the movie id so that the browser can be directed to that webpage. Note out of many searches we are taking the 1st search result\n",
    "table = soup.find('table',class_='findList')\n",
    "movieid = table.tr.a['href']\n",
    "movieid"
   ]
  },
  {
   "cell_type": "markdown",
   "metadata": {},
   "source": [
    "#### 1st soup object is used to form the extract movie id from imdb page. 2nd soup object is used to extract data from from the newly formed imdb page based upon movieid"
   ]
  },
  {
   "cell_type": "code",
   "execution_count": 6,
   "metadata": {},
   "outputs": [],
   "source": [
    "movielink = \"http://www.imdb.com\" + movieid\n",
    "# Form the movie url which has to be used to extract data\n",
    "moviepage = requests.get(movielink)\n",
    "# get method fetches the source code from entire page\n",
    "soup2 = BeautifulSoup(moviepage.content, 'lxml')\n",
    "# we create another soup object to perform crawling on the actual moviepage\n"
   ]
  },
  {
   "cell_type": "code",
   "execution_count": 7,
   "metadata": {},
   "outputs": [
    {
     "data": {
      "text/plain": [
       "'Game of Thrones'"
      ]
     },
     "execution_count": 7,
     "metadata": {},
     "output_type": "execute_result"
    }
   ],
   "source": [
    "# Title\n",
    "uncleaned = soup2.find('div', class_ = 'title_wrapper').h1.text\n",
    "#it contains some weird text and extra &nbsp at end. So replace it with empty string\n",
    "uncleaned =uncleaned.replace('\\xa0','')\n",
    "title = uncleaned.strip()\n",
    "title"
   ]
  },
  {
   "cell_type": "markdown",
   "metadata": {},
   "source": [
    "## For some of the variables like imdbrating, votes,metascore etc there are chances that these are not present on actual imdb page. Thus I have used try except to handle such cases and print appropriate statements at the end.  A counter is initialized to 1 and in except cases it goes to zero indicating absence of any occurence on imdb page"
   ]
  },
  {
   "cell_type": "code",
   "execution_count": 8,
   "metadata": {},
   "outputs": [
    {
     "name": "stdout",
     "output_type": "stream",
     "text": [
      "9.3\n"
     ]
    }
   ],
   "source": [
    "#imdb rating\n",
    "imdbcounter=1\n",
    "try:\n",
    "    imdb_rating = float(soup2.select('.ratingValue span')[0].text)\n",
    "except:\n",
    "    imdbcounter=0\n",
    "if(imdbcounter !=0):\n",
    "    print(imdb_rating)\n",
    "else:\n",
    "    print(\"imdb rating is not given on imdb page\")"
   ]
  },
  {
   "cell_type": "code",
   "execution_count": 9,
   "metadata": {},
   "outputs": [],
   "source": [
    "#metascore\n",
    "# Tv series dont have metascore. Thus we store the values in metascore variable only when they are present on imdb page.\n",
    "try:\n",
    "    metascore = float(soup2.select('.metacriticScore span')[0].text) if float(soup2.select('.metacriticScore span')[0].text) else None\n",
    "except Exception as e:\n",
    "    metascore=None\n",
    "metascore"
   ]
  },
  {
   "cell_type": "markdown",
   "metadata": {},
   "source": [
    "#### If you see cast details on imdb page, an inspect tells us that they are stored in two classes-odd and even. Thus we perform extracting of casts having class=\"odd\" and then those having class=\"even\". The results are stored in separate lists and then concatenated together to form final list of casts"
   ]
  },
  {
   "cell_type": "code",
   "execution_count": 10,
   "metadata": {},
   "outputs": [
    {
     "data": {
      "text/plain": [
       "['Peter Dinklage',\n",
       " 'Emilia Clarke',\n",
       " 'Sophie Turner',\n",
       " 'Nikolaj Coster-Waldau',\n",
       " 'John Bradley',\n",
       " 'Conleth Hill',\n",
       " 'Gwendoline Christie',\n",
       " 'Isaac Hempstead Wright',\n",
       " 'Nathalie Emmanuel',\n",
       " 'Daniel Portman',\n",
       " 'Ben Crompton',\n",
       " 'Julian Glover',\n",
       " 'Charles Dance',\n",
       " 'Lena Headey',\n",
       " 'Kit Harington',\n",
       " 'Maisie Williams',\n",
       " 'Iain Glen',\n",
       " 'Alfie Allen',\n",
       " 'Liam Cunningham',\n",
       " 'Aidan Gillen',\n",
       " 'Rory McCann',\n",
       " 'Jerome Flynn',\n",
       " 'Jacob Anderson',\n",
       " 'Kristofer Hivju',\n",
       " 'Carice van Houten',\n",
       " 'Hannah Murray']"
      ]
     },
     "execution_count": 10,
     "metadata": {},
     "output_type": "execute_result"
    }
   ],
   "source": [
    "# Extracting cast values\n",
    "namelist=[]\n",
    "oddnames=[]\n",
    "evennames =[]\n",
    "ttag = soup2.find_all('tr', class_= 'odd')\n",
    "for i in ttag:\n",
    "    namelist.append( i.find('td', attrs={'class': None}))\n",
    "\n",
    "for i in namelist:\n",
    "    if (i.a) is None:\n",
    "        pass\n",
    "    else:\n",
    "        oddnames.append(i.a.string.strip())\n",
    "        \n",
    "ttag = soup2.find_all('tr', class_= 'even')\n",
    "namelist=[]\n",
    "\n",
    "for i in ttag:\n",
    "    namelist.append( i.find('td', attrs={'class': None}))\n",
    "\n",
    "for i in namelist:\n",
    "    if (i.a) is None:\n",
    "        pass\n",
    "    else:\n",
    "        evennames.append(i.a.string.strip())\n",
    "\n",
    "cast = oddnames+evennames\n",
    "cast"
   ]
  },
  {
   "cell_type": "markdown",
   "metadata": {},
   "source": [
    "#### Director details in imdb page are given as Director/Directors/Creator/Creators. Some shows have used the term creators whereas some have used director. Thus if we encounter any such word-> We extract the values"
   ]
  },
  {
   "cell_type": "code",
   "execution_count": 11,
   "metadata": {},
   "outputs": [
    {
     "data": {
      "text/plain": [
       "['David Benioff', 'D.B. Weiss']"
      ]
     },
     "execution_count": 11,
     "metadata": {},
     "output_type": "execute_result"
    }
   ],
   "source": [
    "# Directors\n",
    "directors=[]\n",
    "director_container = soup2.find('div',class_ = 'credit_summary_item')\n",
    "\n",
    "if((director_container.find('h4').string =='Director:') or (director_container.find('h4').string =='Creator:') or\n",
    "(director_container.find('h4').string =='Creators:') or (director_container.find('h4').string =='Directors:')) :\n",
    "    directors_container = director_container.find_all('a')\n",
    "    for i in directors_container:\n",
    "        directors.append(i.string)\n",
    "else:\n",
    "    pass\n",
    "    \n",
    "directors\n",
    "    \n",
    "\n"
   ]
  },
  {
   "cell_type": "markdown",
   "metadata": {},
   "source": [
    "### Now we find the country of production for the movie. For some movies, there may be more than one country. Thus we append all countries in a list"
   ]
  },
  {
   "cell_type": "code",
   "execution_count": 12,
   "metadata": {},
   "outputs": [
    {
     "data": {
      "text/plain": [
       "['USA', 'UK']"
      ]
     },
     "execution_count": 12,
     "metadata": {},
     "output_type": "execute_result"
    }
   ],
   "source": [
    "#country \n",
    "country=[]\n",
    "titledetails = soup2.find('div',id='titleDetails')\n",
    "titleheading = titledetails.find_all('a')\n",
    "for i in range(0,len(titleheading)):\n",
    "    if('country_of_origin' in titleheading[i]['href']):\n",
    "        country.append(titleheading[i].string)\n",
    "country"
   ]
  },
  {
   "cell_type": "markdown",
   "metadata": {},
   "source": [
    "### Language tells the languages, the movie is available in. There may be more than one language for a movie( due to dubbing), thus we store the results in a list"
   ]
  },
  {
   "cell_type": "code",
   "execution_count": 13,
   "metadata": {},
   "outputs": [
    {
     "data": {
      "text/plain": [
       "['English']"
      ]
     },
     "execution_count": 13,
     "metadata": {},
     "output_type": "execute_result"
    }
   ],
   "source": [
    "#language\n",
    "languages=[]\n",
    "titledetails2 = soup2.find('div',id='titleDetails')\n",
    "titleheading2 = titledetails2.find_all('a')\n",
    "for i in range(0,len(titleheading2)):\n",
    "    if('primary_language' in titleheading2[i]['href']):\n",
    "        languages.append(titleheading2[i].string)\n",
    "languages"
   ]
  },
  {
   "cell_type": "markdown",
   "metadata": {},
   "source": [
    "###  Below is a way to find according to an attribute in tag-> consider that as dictionary"
   ]
  },
  {
   "cell_type": "markdown",
   "metadata": {},
   "source": [
    "### The number of votes in an imdb page is written in the form '250,000)-> This cant be treated as integer value until we replace , with \"\". Also some movie may not have votes mentioned on imdb page. Hence the try except block."
   ]
  },
  {
   "cell_type": "code",
   "execution_count": 14,
   "metadata": {},
   "outputs": [
    {
     "name": "stdout",
     "output_type": "stream",
     "text": [
      "1685619\n"
     ]
    }
   ],
   "source": [
    "#Total number of votes\n",
    "votecounter=1\n",
    "try:\n",
    "    votes = soup2.find('span', {'itemprop':'ratingCount'}).string\n",
    "    votes = votes.replace(',',\"\")\n",
    "    votes = int(votes)\n",
    "except Exception as e:\n",
    "    votecounter=0\n",
    "if(votecounter!=0):\n",
    "    print(votes)\n",
    "else:\n",
    "    print(\"Number of votes are not given on imdb page\")\n"
   ]
  },
  {
   "cell_type": "markdown",
   "metadata": {},
   "source": [
    "#### next_sibling used to get the element in the same level of the tree. You cant find parent or children of a node through this tag but you can find its siblings. next_element also works in a similar way except that it prints the tag which was parsed just after this tag. It may or may not return next_sibling value depending on the next parsed element"
   ]
  },
  {
   "cell_type": "code",
   "execution_count": 15,
   "metadata": {},
   "outputs": [
    {
     "name": "stdout",
     "output_type": "stream",
     "text": [
      "22 August 2011 (India)\n"
     ]
    }
   ],
   "source": [
    "# release date\n",
    "dateheading = soup2.select('.txt-block h4')\n",
    "for i in range(0,len(dateheading)):\n",
    "    if(dateheading[i].string=='Release Date:'):\n",
    "        print(dateheading[i].next_sibling.strip())\n",
    "        \n"
   ]
  },
  {
   "cell_type": "markdown",
   "metadata": {},
   "source": [
    "#### A movie or a show can belong to multiple genres-> Hence the list "
   ]
  },
  {
   "cell_type": "code",
   "execution_count": 16,
   "metadata": {},
   "outputs": [
    {
     "data": {
      "text/plain": [
       "['Action', 'Adventure', 'Drama']"
      ]
     },
     "execution_count": 16,
     "metadata": {},
     "output_type": "execute_result"
    }
   ],
   "source": [
    "# genres\n",
    "genres=[]\n",
    "wrapper = soup2.select_one('.title_wrapper .subtext')\n",
    "links = wrapper.find_all('a')\n",
    "for i in links:\n",
    "    if 'genres' in i['href']:\n",
    "        genres.append(i.string)\n",
    "        \n",
    "genres"
   ]
  },
  {
   "cell_type": "markdown",
   "metadata": {},
   "source": [
    "### Two concepts of duration are used-> The code just below tells run time of a movie or avg run time of an episode in a tv show. Whereas the code below this cell, tells the run time of a movie or number of seasons in a tv show. So both of these cells have their separate usage"
   ]
  },
  {
   "cell_type": "code",
   "execution_count": 17,
   "metadata": {},
   "outputs": [
    {
     "data": {
      "text/plain": [
       "'57min'"
      ]
     },
     "execution_count": 17,
     "metadata": {},
     "output_type": "execute_result"
    }
   ],
   "source": [
    "#duration-> This considers avg duration shown on imdb page for series\n",
    "wrapper = soup2.select_one('.title_wrapper .subtext')\n",
    "duration = wrapper.find('time').string.strip()\n",
    "duration"
   ]
  },
  {
   "cell_type": "markdown",
   "metadata": {},
   "source": [
    "#### On IMDB page, a tv show always has TV as its starting word in the duration block . Thus we can use an if block wich checks that the duration block starts with TV or not. If it starts, we extract the number of seasons else its a movie and we extract its runtime. Thus this code has a separate function based off the type- Movie/TV Show"
   ]
  },
  {
   "cell_type": "code",
   "execution_count": 18,
   "metadata": {},
   "outputs": [
    {
     "name": "stdout",
     "output_type": "stream",
     "text": [
      "The number of seasons are  8 seasons\n"
     ]
    }
   ],
   "source": [
    "# Type, Duration/Seasons\n",
    "durncounter=1\n",
    "wrapper = soup2.select_one('.title_wrapper .subtext')\n",
    "links = wrapper.find_all('a')\n",
    "links\n",
    "for i in range(0,len(links)):\n",
    "    if 'releaseinfo' in links[i]['href']:\n",
    "        value = links[i].string.strip()\n",
    "if value.startswith('TV '):\n",
    "    type = 'TV Series'\n",
    "    seasons = soup2.select('.seasons-and-year-nav a')[0].string\n",
    "    duration = seasons+\" seasons\"\n",
    "else:\n",
    "    type='Movie'\n",
    "    try:\n",
    "        duration = wrapper.find('time').string.strip()\n",
    "    except Exception as e:\n",
    "        durncounter=0\n",
    "    \n",
    "\n",
    "if(type == 'Movie') and durncounter!= 0:\n",
    "    print(\"The duration is\", duration)\n",
    "elif(type == 'TV Series'):\n",
    "    print(\"The number of seasons are \", duration)\n",
    "else:\n",
    "    print(\" Duration is not given on imdb page\")\n"
   ]
  },
  {
   "cell_type": "markdown",
   "metadata": {},
   "source": [
    "#### On IMDB page, a storyline or short summary of the plot is given for movie/tv shows. However it may also happen that no such plot is given for a movie. Thus if our extracted storyline is not an empty string, we print it.\n",
    "\n",
    "#### Also some of the storyline have some links placed inside them( \"anchor tag\"). So normal (.strings ) wont work, we use get_text\n"
   ]
  },
  {
   "cell_type": "code",
   "execution_count": 20,
   "metadata": {},
   "outputs": [
    {
     "name": "stdout",
     "output_type": "stream",
     "text": [
      "\n",
      "Here is a description of the storyline - \n",
      " In the mythical continent of Westeros, several powerful families fight for control of the Seven Kingdoms. As conflict erupts in the kingdoms of men, an ancient enemy rises once again to threaten them all. Meanwhile, the last heirs of a recently usurped dynasty plot to take back their homeland from across the Narrow Sea.\n"
     ]
    }
   ],
   "source": [
    "# Storyline\n",
    "# Here we have links inside story for some movies. So normal .strings wont work\n",
    "story = soup2.select_one('#titleStoryLine div span').get_text().strip()\n",
    "story\n",
    "if(story!=''):\n",
    "    print(\"\\nHere is a description of the storyline - \\n\", story)\n",
    "else:\n",
    "    print(\"\\nStory description is not given on imdb page\")\n",
    "    "
   ]
  },
  {
   "cell_type": "markdown",
   "metadata": {},
   "source": [
    "### certificate tells the certificate or censor rating given to a movie/tv show."
   ]
  },
  {
   "cell_type": "code",
   "execution_count": 21,
   "metadata": {},
   "outputs": [
    {
     "name": "stdout",
     "output_type": "stream",
     "text": [
      "\n",
      "The TV Series has been given A certificate\n"
     ]
    }
   ],
   "source": [
    "# Certificate\n",
    "wrapper = soup2.select_one('.title_wrapper .subtext')\n",
    "certificate = wrapper.next_element.strip()\n",
    "if(certificate != ''):\n",
    "    print(\"\\nThe {} has been given {} certificate\".format(type,certificate))\n",
    "else:\n",
    "    print(\"Certificate details are not given on the imdb page\")\n"
   ]
  },
  {
   "cell_type": "markdown",
   "metadata": {},
   "source": [
    "### COMBINING ALL THE CODE -> You need to restart the kernel to enter the movie/tv series everytime you execute this block "
   ]
  },
  {
   "cell_type": "code",
   "execution_count": 1,
   "metadata": {},
   "outputs": [
    {
     "name": "stdout",
     "output_type": "stream",
     "text": [
      "Enter your value: Game Of Thrones\n",
      "Title is - Game of Thrones\n",
      "\n",
      "The number of seasons are  8 seasons\n",
      "\n",
      "The imdb rating of the TV Series is = 9.3\n",
      "\n",
      "The imdb rating is calculating on the basis of 1685619 mumber of votes\n",
      "\n",
      "Metascore is not available in imdb site\n",
      "\n",
      "Cast is as follows ['Peter Dinklage', 'Emilia Clarke', 'Sophie Turner', 'Nikolaj Coster-Waldau', 'John Bradley', 'Conleth Hill', 'Gwendoline Christie', 'Isaac Hempstead Wright', 'Nathalie Emmanuel', 'Daniel Portman', 'Ben Crompton', 'Julian Glover', 'Charles Dance', 'Lena Headey', 'Kit Harington', 'Maisie Williams', 'Iain Glen', 'Alfie Allen', 'Liam Cunningham', 'Aidan Gillen', 'Rory McCann', 'Jerome Flynn', 'Jacob Anderson', 'Kristofer Hivju', 'Carice van Houten', 'Hannah Murray']\n",
      "\n",
      "Directors are ['David Benioff', 'D.B. Weiss']\n",
      "\n",
      "Production Countries- ['USA', 'UK']\n",
      "\n",
      "TV Series is available in Languages- ['English']\n",
      "\n",
      "TV Series was released in- 22 August 2011 (India)\n",
      "\n",
      "Following are the genres of the TV Series - ['Action', 'Adventure', 'Drama']\n",
      "\n",
      "The TV Series has been given A certificate\n",
      "\n",
      "Here is a description of the storyline - \n",
      " In the mythical continent of Westeros, several powerful families fight for control of the Seven Kingdoms. As conflict erupts in the kingdoms of men, an ancient enemy rises once again to threaten them all. Meanwhile, the last heirs of a recently usurped dynasty plot to take back their homeland from across the Narrow Sea.\n"
     ]
    }
   ],
   "source": [
    "from bs4 import BeautifulSoup\n",
    "import requests\n",
    "input = input(\"Enter your value: \") \n",
    "response = requests.get('http://www.imdb.com/find?ref_=nv_sr_fn&q=' +input+ ' &s=tt')\n",
    "\n",
    "soup = BeautifulSoup(response.content, 'lxml')\n",
    "table = soup.find('table',class_='findList')\n",
    "movieid = table.tr.a['href']\n",
    "\n",
    "movielink = \"http://www.imdb.com\" + movieid\n",
    "moviepage = requests.get(movielink)\n",
    "soup2 = BeautifulSoup(moviepage.content, 'lxml')\n",
    "\n",
    "\n",
    "#title of movie/show\n",
    "uncleaned = soup2.find('div', class_ = 'title_wrapper').h1.text\n",
    "uncleaned =uncleaned.replace('\\xa0','')\n",
    "title = uncleaned.strip()\n",
    "print(\"Title is - {}\".format(title))\n",
    "\n",
    "# Type, Duration/Seasons\n",
    "durncounter=1\n",
    "wrapper = soup2.select_one('.title_wrapper .subtext')\n",
    "links = wrapper.find_all('a')\n",
    "links\n",
    "for i in range(0,len(links)):\n",
    "    if 'releaseinfo' in links[i]['href']:\n",
    "        value = links[i].string.strip()\n",
    "if value.startswith('TV '):\n",
    "    type = 'TV Series'\n",
    "    seasons = soup2.select('.seasons-and-year-nav a')[0].string\n",
    "    duration = seasons+\" seasons\"\n",
    "else:\n",
    "    type='Movie'\n",
    "    try:\n",
    "        duration = wrapper.find('time').string.strip()\n",
    "    except Exception as e:\n",
    "        durncounter=0\n",
    "    \n",
    "\n",
    "if(type == 'Movie') and durncounter!= 0:\n",
    "    print(\"\\nThe duration is\", duration)\n",
    "elif(type == 'TV Series'):\n",
    "    print(\"\\nThe number of seasons are \", duration)\n",
    "else:\n",
    "    print(\"\\nDuration is not given on imdb page\")\n",
    "\n",
    "#imdb rating\n",
    "imdbcounter=1\n",
    "try:\n",
    "    imdb_rating = float(soup2.select('.ratingValue span')[0].text)\n",
    "except Exception as e:\n",
    "    imdbcounter=0\n",
    "if(imdbcounter !=0):\n",
    "    print(\"\\nThe imdb rating of the {} is = {}\".format(type,imdb_rating))\n",
    "else:\n",
    "    print(\"\\nimdb rating is not given on imdb page\")\n",
    "\n",
    "\n",
    "#Total number of votes\n",
    "votecounter=1\n",
    "try:\n",
    "    votes = soup2.find('span', {'itemprop':'ratingCount'}).string\n",
    "    votes = votes.replace(',',\"\")\n",
    "    votes = int(votes)\n",
    "except Exception as e:\n",
    "    votecounter=0\n",
    "if(votecounter!=0):\n",
    "    print(\"\\nThe imdb rating is calculating on the basis of {} mumber of votes\".format( votes))\n",
    "else:\n",
    "    print(\"\\nNumber of votes are not given on imdb page\")\n",
    "\n",
    "#metascore    \n",
    "try:\n",
    "    metascore = float(soup2.select('.metacriticScore span')[0].text) if float(soup2.select('.metacriticScore span')[0].text) else None\n",
    "    print(\"\\nMetascore - \",metascore)\n",
    "except Exception as e:\n",
    "    metascore=None\n",
    "    print(\"\\nMetascore is not available in imdb site\")\n",
    "\n",
    "# cast values\n",
    "namelist=[]\n",
    "oddnames=[]\n",
    "evennames =[]\n",
    "ttag = soup2.find_all('tr', class_= 'odd')\n",
    "for i in ttag:\n",
    "    namelist.append( i.find('td', attrs={'class': None}))\n",
    "\n",
    "for i in namelist:\n",
    "    if (i.a) is None:\n",
    "        pass\n",
    "    else:\n",
    "        oddnames.append(i.a.string.strip())\n",
    "        \n",
    "ttag = soup2.find_all('tr', class_= 'even')\n",
    "namelist=[]\n",
    "\n",
    "for i in ttag:\n",
    "    namelist.append( i.find('td', attrs={'class': None}))\n",
    "\n",
    "for i in namelist:\n",
    "    if (i.a) is None:\n",
    "        pass\n",
    "    else:\n",
    "        evennames.append(i.a.string.strip())\n",
    "\n",
    "cast = oddnames+evennames\n",
    "print(\"\\nCast is as follows\",cast)\n",
    "\n",
    "# Extracting directors\n",
    "directors=[]\n",
    "director_container = soup2.find('div',class_ = 'credit_summary_item')\n",
    "\n",
    "if((director_container.find('h4').string =='Director:') or (director_container.find('h4').string =='Creator:') or\n",
    "(director_container.find('h4').string =='Creators:') or (director_container.find('h4').string =='Directors:')) :\n",
    "    directors_container = director_container.find_all('a')\n",
    "    for i in directors_container:\n",
    "        directors.append(i.string)\n",
    "    print(\"\\nDirectors are\", directors)\n",
    "else:\n",
    "    print(\"\\nDirector information not given in imdb site\")\n",
    "\n",
    "# Country of production\n",
    "country=[]\n",
    "titledetails = soup2.find('div',id='titleDetails')\n",
    "titleheading = titledetails.find_all('a')\n",
    "for i in range(0,len(titleheading)):\n",
    "    if('country_of_origin' in titleheading[i]['href']):\n",
    "        country.append(titleheading[i].string)\n",
    "print(\"\\nProduction Countries-\", country)\n",
    "        \n",
    "# Language\n",
    "languages=[]\n",
    "titledetails2 = soup2.find('div',id='titleDetails')\n",
    "titleheading2 = titledetails2.find_all('a')\n",
    "for i in range(0,len(titleheading2)):\n",
    "    if('primary_language' in titleheading2[i]['href']):\n",
    "        languages.append(titleheading2[i].string)\n",
    "print(\"\\n{} is available in Languages- {}\".format(type, languages))\n",
    "\n",
    "# release date\n",
    "dateheading = soup2.select('.txt-block h4')\n",
    "for i in range(0,len(dateheading)):\n",
    "    if(dateheading[i].string=='Release Date:'):\n",
    "        releasedate = dateheading[i].next_sibling.strip()\n",
    "print(\"\\n{} was released in- {}\".format(type, releasedate))\n",
    "\n",
    "        \n",
    "# genres\n",
    "genres=[]\n",
    "wrapper = soup2.select_one('.title_wrapper .subtext')\n",
    "links = wrapper.find_all('a')\n",
    "for i in links:\n",
    "    if 'genres' in i['href']:\n",
    "        genres.append(i.string)\n",
    "print(\"\\nFollowing are the genres of the {} - {}\".format(type,genres))\n",
    "\n",
    "# Certificate\n",
    "wrapper = soup2.select_one('.title_wrapper .subtext')\n",
    "certificate = wrapper.next_element.strip()\n",
    "if(certificate != ''):\n",
    "    print(\"\\nThe {} has been given {} certificate\".format(type,certificate))\n",
    "else:\n",
    "    print(\"\\nCertificate details are not given on the imdb page\")\n",
    "    \n",
    "# Storyline\n",
    "story = soup2.select_one('#titleStoryLine div span').get_text().strip()\n",
    "if(story!=''):\n",
    "    print(\"\\nHere is a description of the storyline - \\n\", story)\n",
    "else:\n",
    "    print(\"\\nStory description is not given on imdb page\")\n",
    "    "
   ]
  },
  {
   "cell_type": "code",
   "execution_count": null,
   "metadata": {},
   "outputs": [],
   "source": []
  }
 ],
 "metadata": {
  "kernelspec": {
   "display_name": "Python 3",
   "language": "python",
   "name": "python3"
  },
  "language_info": {
   "codemirror_mode": {
    "name": "ipython",
    "version": 3
   },
   "file_extension": ".py",
   "mimetype": "text/x-python",
   "name": "python",
   "nbconvert_exporter": "python",
   "pygments_lexer": "ipython3",
   "version": "3.7.1"
  }
 },
 "nbformat": 4,
 "nbformat_minor": 4
}
